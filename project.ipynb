{
 "cells": [
  {
   "cell_type": "code",
   "execution_count": 1,
   "metadata": {},
   "outputs": [
    {
     "name": "stdout",
     "output_type": "stream",
     "text": [
      "Requirement already satisfied: matplotlib in c:\\users\\chunc\\appdata\\roaming\\python\\python310\\site-packages (3.7.1)\n",
      "Requirement already satisfied: pyparsing>=2.3.1 in c:\\users\\chunc\\anaconda3\\envs\\numer\\lib\\site-packages (from matplotlib) (3.0.9)\n",
      "Requirement already satisfied: fonttools>=4.22.0 in c:\\users\\chunc\\appdata\\roaming\\python\\python310\\site-packages (from matplotlib) (4.34.4)\n",
      "Requirement already satisfied: pillow>=6.2.0 in c:\\users\\chunc\\appdata\\roaming\\python\\python310\\site-packages (from matplotlib) (9.2.0)\n",
      "Requirement already satisfied: kiwisolver>=1.0.1 in c:\\users\\chunc\\appdata\\roaming\\python\\python310\\site-packages (from matplotlib) (1.4.4)\n",
      "Requirement already satisfied: packaging>=20.0 in c:\\users\\chunc\\appdata\\roaming\\python\\python310\\site-packages (from matplotlib) (23.1)\n",
      "Requirement already satisfied: cycler>=0.10 in c:\\users\\chunc\\appdata\\roaming\\python\\python310\\site-packages (from matplotlib) (0.11.0)\n",
      "Requirement already satisfied: python-dateutil>=2.7 in c:\\users\\chunc\\appdata\\roaming\\python\\python310\\site-packages (from matplotlib) (2.8.2)\n",
      "Requirement already satisfied: numpy>=1.20 in c:\\users\\chunc\\appdata\\roaming\\python\\python310\\site-packages (from matplotlib) (1.23.2)\n",
      "Requirement already satisfied: contourpy>=1.0.1 in c:\\users\\chunc\\appdata\\roaming\\python\\python310\\site-packages (from matplotlib) (1.0.7)\n",
      "Requirement already satisfied: six>=1.5 in c:\\users\\chunc\\anaconda3\\envs\\numer\\lib\\site-packages (from python-dateutil>=2.7->matplotlib) (1.16.0)\n",
      "Note: you may need to restart the kernel to use updated packages.\n"
     ]
    }
   ],
   "source": [
    "pip install matplotlib"
   ]
  },
  {
   "cell_type": "code",
   "execution_count": 2,
   "metadata": {},
   "outputs": [],
   "source": [
    "import matplotlib\n",
    "matplotlib.use(\"svg\")\n",
    "import matplotlib.pyplot as plt\n",
    "import numpy as np\n",
    "import flet as ft\n",
    "from flet.matplotlib_chart import MatplotlibChart\n",
    "import matplotlib.backends.backend_tkagg"
   ]
  },
  {
   "cell_type": "code",
   "execution_count": null,
   "metadata": {},
   "outputs": [],
   "source": [
    "def my_central_diff(y, dt):\n",
    "    # y : compute function\n",
    "    # dt : step size\n",
    "    # base = np.arange(0, 2*np.pi, h)#設定範圍\n",
    "    n=len(y)#取得y資料的長度(數量)\n",
    "    z = np.zeros(n)                 \n",
    "    for i in range(1,n-1):#用迴圈去算每個取樣點\n",
    "        z[i] = (y[i+1]-y[i-1])/(2*dt)#central difference計算\n",
    "    return z\n",
    "def main(page: ft.Page):\n",
    "    global diff_function  \n",
    "    dt = 0.1#設定dt要多少\n",
    "    x = np.arange(0,2*np.pi,dt)#統一X\n",
    "    c=np.sin(x)#使用np的sin&cos\n",
    "    d=np.cos(x)\n",
    "    zero = 0*x#劃出0\n",
    "    page.title = \"sin(x) cos(x) function Differential\"\n",
    "    page.window_width = 750#設定長寬\n",
    "    page.window_height = 900\n",
    "    page.horizontal_alignment = ft.CrossAxisAlignment.CENTER#把所有都對其在正中間\n",
    "    def choose_func(aaa):\n",
    "        global func\n",
    "        func = aaa.control.data #將按下的按鈕值存入\n",
    "        page.add(ft.Text(f\"The function of your choice is : { func }\",size= 20))#輸出選擇function文字\n",
    "    def diff_func(aaa): #微分\n",
    "        if func == \"sin(x)\":        \n",
    "            diff_function = my_central_diff(c,dt)#如果選sin就輸出cos\n",
    "        elif func == \"cos(x)\":\n",
    "            diff_function = my_central_diff(d,dt)#如果選cos就輸出sin\n",
    "        plt.figure(figsize = (10, 6))   \n",
    "        plt.plot(x, diff_function)#畫central_diff出來的圖\n",
    "        plt.plot(x,zero,label = \"zero\" )#畫0為參考\n",
    "        plt.xlabel(\"x\")\n",
    "        plt.ylabel(\"y\")\n",
    "        plt.grid()#格線\n",
    "        page.add(MatplotlibChart(plt, expand=True))\n",
    "    def submit_x(e):\n",
    "        t2.value = f\"your x value is:  '{tb1.value}'.\"#顯示輸入的x值\n",
    "        g=int(tb1.value)/100#輸整數除100\n",
    "        page.update()\n",
    "        if func == \"sin(x)\":#使用np的sin&cos\n",
    "            ans = np.cos(g)\n",
    "        elif func == \"cos(x)\":\n",
    "            ans = -1*np.sin(g)          \n",
    "        t3.value = f\"your y value is:{ans}.\"    \n",
    "        plt.plot(g , ans , 'ro')#在圖上標點\n",
    "        page.update()\n",
    "    btn1 = ft.ElevatedButton(text = \"sin(x)\" , data=\"sin(x)\" , width=530, on_click=choose_func )#按鈕\n",
    "    btn2 = ft.ElevatedButton(text = \"cos(x)\" , data=\"cos(x)\" , width=530, on_click=choose_func )#按鈕\n",
    "    btn3 = ft.ElevatedButton(text = \"start diff\" , width = 300, on_click = diff_func)\n",
    "    page.add(btn1,btn2,btn3)\n",
    "    page.update()\n",
    "    t2 = ft.Text()\n",
    "    t3 = ft.Text()\n",
    "    tb1 = ft.TextField(label=\"x value(from 0 to 628)\")#輸入X計算Y\n",
    "    b = ft.ElevatedButton(text=\"Submit\", on_click=submit_x)#按鈕\n",
    "    page.add(tb1,b,t2,t3)\n",
    "ft.app(target=main)"
   ]
  }
 ],
 "metadata": {
  "kernelspec": {
   "display_name": "base",
   "language": "python",
   "name": "python3"
  },
  "language_info": {
   "codemirror_mode": {
    "name": "ipython",
    "version": 3
   },
   "file_extension": ".py",
   "mimetype": "text/x-python",
   "name": "python",
   "nbconvert_exporter": "python",
   "pygments_lexer": "ipython3",
   "version": "3.10.11"
  },
  "orig_nbformat": 4
 },
 "nbformat": 4,
 "nbformat_minor": 2
}
